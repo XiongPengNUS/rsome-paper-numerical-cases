{
 "cells": [
  {
   "cell_type": "markdown",
   "id": "db224950",
   "metadata": {},
   "source": [
    "## Install RSOME and the ECOS solver"
   ]
  },
  {
   "cell_type": "code",
   "execution_count": 9,
   "id": "3b992044",
   "metadata": {},
   "outputs": [
    {
     "name": "stdout",
     "output_type": "stream",
     "text": [
      "Collecting rsome\n",
      "  Downloading rsome-1.0.3-py3-none-any.whl (55 kB)\n",
      "\u001b[2K     \u001b[90m━━━━━━━━━━━━━━━━━━━━━━━━━━━━━━━━━━━━━━━\u001b[0m \u001b[32m55.7/55.7 KB\u001b[0m \u001b[31m321.3 kB/s\u001b[0m eta \u001b[36m0:00:00\u001b[0ma \u001b[36m0:00:01\u001b[0m\n",
      "\u001b[?25hRequirement already satisfied: pandas>=0.25.0 in /Users/pengxiong/opt/anaconda3/lib/python3.7/site-packages (from rsome) (1.3.5)\n",
      "Requirement already satisfied: numpy>=1.20.0 in /Users/pengxiong/opt/anaconda3/lib/python3.7/site-packages (from rsome) (1.21.5)\n",
      "Requirement already satisfied: scipy>=1.2.1 in /Users/pengxiong/opt/anaconda3/lib/python3.7/site-packages (from rsome) (1.7.2)\n",
      "Requirement already satisfied: pytz>=2017.3 in /Users/pengxiong/opt/anaconda3/lib/python3.7/site-packages (from pandas>=0.25.0->rsome) (2019.3)\n",
      "Requirement already satisfied: python-dateutil>=2.7.3 in /Users/pengxiong/opt/anaconda3/lib/python3.7/site-packages (from pandas>=0.25.0->rsome) (2.8.0)\n",
      "Requirement already satisfied: six>=1.5 in /Users/pengxiong/opt/anaconda3/lib/python3.7/site-packages (from python-dateutil>=2.7.3->pandas>=0.25.0->rsome) (1.16.0)\n",
      "Installing collected packages: rsome\n",
      "Successfully installed rsome-1.0.3\n"
     ]
    }
   ],
   "source": [
    "!pip install rsome --user"
   ]
  },
  {
   "cell_type": "code",
   "execution_count": 7,
   "id": "233d2516",
   "metadata": {},
   "outputs": [
    {
     "name": "stdout",
     "output_type": "stream",
     "text": [
      "Collecting ecos\n",
      "  Downloading ecos-2.0.10-cp37-cp37m-win_amd64.whl (68 kB)\n",
      "Requirement already satisfied: scipy>=0.9 in c:\\users\\johnn\\appdata\\roaming\\python\\python37\\site-packages (from ecos) (1.5.4)\n",
      "Requirement already satisfied: numpy>=1.6 in c:\\anaconda\\lib\\site-packages (from ecos) (1.21.5)\n",
      "Installing collected packages: ecos\n",
      "Successfully installed ecos-2.0.10\n"
     ]
    }
   ],
   "source": [
    "!pip install ecos"
   ]
  },
  {
   "cell_type": "markdown",
   "id": "29193a2d",
   "metadata": {},
   "source": [
    "## Application of Vehicle Preallocation\n",
    "\n",
    "### Import RSOME and other analytical tools"
   ]
  },
  {
   "cell_type": "code",
   "execution_count": 1,
   "id": "23d32dae",
   "metadata": {
    "scrolled": false
   },
   "outputs": [],
   "source": [
    "import pandas as pd\n",
    "import numpy as np\n",
    "import matplotlib.pyplot as plt\n",
    "from sklearn.tree import DecisionTreeRegressor"
   ]
  },
  {
   "cell_type": "code",
   "execution_count": 2,
   "id": "62285b04",
   "metadata": {},
   "outputs": [],
   "source": [
    "pd.options.display.max_rows = 7"
   ]
  },
  {
   "cell_type": "markdown",
   "id": "aa7fef46",
   "metadata": {},
   "source": [
    "### Dataset and model parameters\n",
    "#### Data on demand and precipitation"
   ]
  },
  {
   "cell_type": "code",
   "execution_count": 3,
   "id": "324f06d3",
   "metadata": {},
   "outputs": [],
   "source": [
    "data = pd.read_csv('https://xiongpengnus.github.io/rsome/taxi_rain.csv')"
   ]
  },
  {
   "cell_type": "code",
   "execution_count": 4,
   "id": "84c30568",
   "metadata": {},
   "outputs": [
    {
     "data": {
      "text/html": [
       "<div>\n",
       "<style scoped>\n",
       "    .dataframe tbody tr th:only-of-type {\n",
       "        vertical-align: middle;\n",
       "    }\n",
       "\n",
       "    .dataframe tbody tr th {\n",
       "        vertical-align: top;\n",
       "    }\n",
       "\n",
       "    .dataframe thead th {\n",
       "        text-align: right;\n",
       "    }\n",
       "</style>\n",
       "<table border=\"1\" class=\"dataframe\">\n",
       "  <thead>\n",
       "    <tr style=\"text-align: right;\">\n",
       "      <th></th>\n",
       "      <th>Region1</th>\n",
       "      <th>Region2</th>\n",
       "      <th>Region3</th>\n",
       "      <th>Region4</th>\n",
       "      <th>Region5</th>\n",
       "      <th>Region6</th>\n",
       "      <th>Region7</th>\n",
       "      <th>Region8</th>\n",
       "      <th>Region9</th>\n",
       "      <th>Region10</th>\n",
       "    </tr>\n",
       "  </thead>\n",
       "  <tbody>\n",
       "    <tr>\n",
       "      <th>0</th>\n",
       "      <td>0.000000</td>\n",
       "      <td>0.000000</td>\n",
       "      <td>0.000000</td>\n",
       "      <td>0.000000</td>\n",
       "      <td>0.000000</td>\n",
       "      <td>39.613757</td>\n",
       "      <td>1.316626</td>\n",
       "      <td>0.770319</td>\n",
       "      <td>0.000000</td>\n",
       "      <td>2.408292</td>\n",
       "    </tr>\n",
       "    <tr>\n",
       "      <th>1</th>\n",
       "      <td>5.169759</td>\n",
       "      <td>0.000000</td>\n",
       "      <td>2.990986</td>\n",
       "      <td>0.000000</td>\n",
       "      <td>0.000000</td>\n",
       "      <td>54.822255</td>\n",
       "      <td>2.702401</td>\n",
       "      <td>4.682649</td>\n",
       "      <td>0.000000</td>\n",
       "      <td>8.641518</td>\n",
       "    </tr>\n",
       "    <tr>\n",
       "      <th>2</th>\n",
       "      <td>0.000000</td>\n",
       "      <td>0.000000</td>\n",
       "      <td>0.000000</td>\n",
       "      <td>0.000000</td>\n",
       "      <td>0.640985</td>\n",
       "      <td>57.202410</td>\n",
       "      <td>6.523627</td>\n",
       "      <td>3.707144</td>\n",
       "      <td>0.000000</td>\n",
       "      <td>3.232930</td>\n",
       "    </tr>\n",
       "    <tr>\n",
       "      <th>...</th>\n",
       "      <td>...</td>\n",
       "      <td>...</td>\n",
       "      <td>...</td>\n",
       "      <td>...</td>\n",
       "      <td>...</td>\n",
       "      <td>...</td>\n",
       "      <td>...</td>\n",
       "      <td>...</td>\n",
       "      <td>...</td>\n",
       "      <td>...</td>\n",
       "    </tr>\n",
       "    <tr>\n",
       "      <th>74</th>\n",
       "      <td>2.649001</td>\n",
       "      <td>6.784071</td>\n",
       "      <td>0.000000</td>\n",
       "      <td>5.542861</td>\n",
       "      <td>0.000000</td>\n",
       "      <td>93.231729</td>\n",
       "      <td>1.713845</td>\n",
       "      <td>0.000000</td>\n",
       "      <td>0.225335</td>\n",
       "      <td>1.851765</td>\n",
       "    </tr>\n",
       "    <tr>\n",
       "      <th>75</th>\n",
       "      <td>21.418156</td>\n",
       "      <td>19.711290</td>\n",
       "      <td>26.874735</td>\n",
       "      <td>43.991484</td>\n",
       "      <td>3.768123</td>\n",
       "      <td>174.943747</td>\n",
       "      <td>12.610632</td>\n",
       "      <td>38.532604</td>\n",
       "      <td>30.980223</td>\n",
       "      <td>18.556275</td>\n",
       "    </tr>\n",
       "    <tr>\n",
       "      <th>76</th>\n",
       "      <td>0.000000</td>\n",
       "      <td>4.535048</td>\n",
       "      <td>4.168807</td>\n",
       "      <td>0.000000</td>\n",
       "      <td>2.104692</td>\n",
       "      <td>105.036031</td>\n",
       "      <td>0.000000</td>\n",
       "      <td>4.535980</td>\n",
       "      <td>7.001034</td>\n",
       "      <td>0.000000</td>\n",
       "    </tr>\n",
       "  </tbody>\n",
       "</table>\n",
       "<p>77 rows × 10 columns</p>\n",
       "</div>"
      ],
      "text/plain": [
       "      Region1    Region2    Region3    Region4   Region5     Region6  \\\n",
       "0    0.000000   0.000000   0.000000   0.000000  0.000000   39.613757   \n",
       "1    5.169759   0.000000   2.990986   0.000000  0.000000   54.822255   \n",
       "2    0.000000   0.000000   0.000000   0.000000  0.640985   57.202410   \n",
       "..        ...        ...        ...        ...       ...         ...   \n",
       "74   2.649001   6.784071   0.000000   5.542861  0.000000   93.231729   \n",
       "75  21.418156  19.711290  26.874735  43.991484  3.768123  174.943747   \n",
       "76   0.000000   4.535048   4.168807   0.000000  2.104692  105.036031   \n",
       "\n",
       "      Region7    Region8    Region9   Region10  \n",
       "0    1.316626   0.770319   0.000000   2.408292  \n",
       "1    2.702401   4.682649   0.000000   8.641518  \n",
       "2    6.523627   3.707144   0.000000   3.232930  \n",
       "..        ...        ...        ...        ...  \n",
       "74   1.713845   0.000000   0.225335   1.851765  \n",
       "75  12.610632  38.532604  30.980223  18.556275  \n",
       "76   0.000000   4.535980   7.001034   0.000000  \n",
       "\n",
       "[77 rows x 10 columns]"
      ]
     },
     "execution_count": 4,
     "metadata": {},
     "output_type": "execute_result"
    }
   ],
   "source": [
    "demand = data.loc[:, 'Region1':'Region10']\n",
    "demand"
   ]
  },
  {
   "cell_type": "code",
   "execution_count": 5,
   "id": "7d8d53dd",
   "metadata": {},
   "outputs": [
    {
     "data": {
      "text/html": [
       "<div>\n",
       "<style scoped>\n",
       "    .dataframe tbody tr th:only-of-type {\n",
       "        vertical-align: middle;\n",
       "    }\n",
       "\n",
       "    .dataframe tbody tr th {\n",
       "        vertical-align: top;\n",
       "    }\n",
       "\n",
       "    .dataframe thead th {\n",
       "        text-align: right;\n",
       "    }\n",
       "</style>\n",
       "<table border=\"1\" class=\"dataframe\">\n",
       "  <thead>\n",
       "    <tr style=\"text-align: right;\">\n",
       "      <th></th>\n",
       "      <th>S08_Rain_Amount</th>\n",
       "      <th>S107_Rain_Amount</th>\n",
       "      <th>S108_Rain_Amount</th>\n",
       "      <th>S78_Rain_Amount</th>\n",
       "      <th>S79_Rain_Amount</th>\n",
       "      <th>S88_Rain_Amount</th>\n",
       "    </tr>\n",
       "  </thead>\n",
       "  <tbody>\n",
       "    <tr>\n",
       "      <th>0</th>\n",
       "      <td>0.1</td>\n",
       "      <td>0.0</td>\n",
       "      <td>0.0</td>\n",
       "      <td>0.0</td>\n",
       "      <td>0.1</td>\n",
       "      <td>0.0</td>\n",
       "    </tr>\n",
       "    <tr>\n",
       "      <th>1</th>\n",
       "      <td>0.0</td>\n",
       "      <td>0.8</td>\n",
       "      <td>0.1</td>\n",
       "      <td>0.0</td>\n",
       "      <td>0.0</td>\n",
       "      <td>0.0</td>\n",
       "    </tr>\n",
       "    <tr>\n",
       "      <th>2</th>\n",
       "      <td>0.6</td>\n",
       "      <td>0.6</td>\n",
       "      <td>0.7</td>\n",
       "      <td>0.4</td>\n",
       "      <td>0.4</td>\n",
       "      <td>0.5</td>\n",
       "    </tr>\n",
       "    <tr>\n",
       "      <th>...</th>\n",
       "      <td>...</td>\n",
       "      <td>...</td>\n",
       "      <td>...</td>\n",
       "      <td>...</td>\n",
       "      <td>...</td>\n",
       "      <td>...</td>\n",
       "    </tr>\n",
       "    <tr>\n",
       "      <th>74</th>\n",
       "      <td>0.0</td>\n",
       "      <td>0.0</td>\n",
       "      <td>0.0</td>\n",
       "      <td>0.0</td>\n",
       "      <td>0.0</td>\n",
       "      <td>0.0</td>\n",
       "    </tr>\n",
       "    <tr>\n",
       "      <th>75</th>\n",
       "      <td>1.3</td>\n",
       "      <td>0.3</td>\n",
       "      <td>15.6</td>\n",
       "      <td>4.6</td>\n",
       "      <td>4.3</td>\n",
       "      <td>4.4</td>\n",
       "    </tr>\n",
       "    <tr>\n",
       "      <th>76</th>\n",
       "      <td>0.0</td>\n",
       "      <td>0.0</td>\n",
       "      <td>0.0</td>\n",
       "      <td>0.0</td>\n",
       "      <td>0.0</td>\n",
       "      <td>0.0</td>\n",
       "    </tr>\n",
       "  </tbody>\n",
       "</table>\n",
       "<p>77 rows × 6 columns</p>\n",
       "</div>"
      ],
      "text/plain": [
       "    S08_Rain_Amount  S107_Rain_Amount  S108_Rain_Amount  S78_Rain_Amount  \\\n",
       "0               0.1               0.0               0.0              0.0   \n",
       "1               0.0               0.8               0.1              0.0   \n",
       "2               0.6               0.6               0.7              0.4   \n",
       "..              ...               ...               ...              ...   \n",
       "74              0.0               0.0               0.0              0.0   \n",
       "75              1.3               0.3              15.6              4.6   \n",
       "76              0.0               0.0               0.0              0.0   \n",
       "\n",
       "    S79_Rain_Amount  S88_Rain_Amount  \n",
       "0               0.1              0.0  \n",
       "1               0.0              0.0  \n",
       "2               0.4              0.5  \n",
       "..              ...              ...  \n",
       "74              0.0              0.0  \n",
       "75              4.3              4.4  \n",
       "76              0.0              0.0  \n",
       "\n",
       "[77 rows x 6 columns]"
      ]
     },
     "execution_count": 5,
     "metadata": {},
     "output_type": "execute_result"
    }
   ],
   "source": [
    "precip = data.loc[:, 'S08_Rain_Amount': 'S88_Rain_Amount']\n",
    "precip"
   ]
  },
  {
   "cell_type": "markdown",
   "id": "a5f1721a",
   "metadata": {},
   "source": [
    "#### Supply and demand node coefficients"
   ]
  },
  {
   "cell_type": "code",
   "execution_count": 6,
   "id": "661115a6",
   "metadata": {},
   "outputs": [],
   "source": [
    "I = 1                                                 # number of supply nodes\n",
    "J = demand.shape[1]                                   # number of demand nodes\n",
    "r = np.array([4.8, 4.692, 3.732, 4.788, 4.656, \n",
    "              4.896, 4.836, 4.968, 4.896, 4.584])     # revenue coefficients\n",
    "c = 3 * np.ones((I, J))                               # cost coefficients \n",
    "q = 400 * np.ones(I)                                  # maximum supply of vehicles"
   ]
  },
  {
   "cell_type": "markdown",
   "id": "d32c62d7",
   "metadata": {},
   "source": [
    "### Implementation using `RSOME`\n",
    "#### The robust model"
   ]
  },
  {
   "cell_type": "code",
   "execution_count": 14,
   "id": "0af0c444",
   "metadata": {},
   "outputs": [],
   "source": [
    "d_ub = demand.max().values                  # upper bound of demand\n",
    "d_lb = demand.min().values                  # lower bound of demand"
   ]
  },
  {
   "cell_type": "code",
   "execution_count": 15,
   "id": "bee47b8f",
   "metadata": {},
   "outputs": [
    {
     "name": "stdout",
     "output_type": "stream",
     "text": [
      "Being solved by ECOS...\n",
      "Solution status: Optimal solution found\n",
      "Running time: 0.0038s\n"
     ]
    }
   ],
   "source": [
    "from rsome import ro                        # import the ro module\n",
    "from rsome import eco_solver as eco         # import the Gurobi interface\n",
    "\n",
    "model = ro.Model()                          # create an RO model\n",
    "\n",
    "d = model.rvar(J)                           # create an array of random variables\n",
    "zset = (d <= d_ub, d >= d_lb)               # define a box uncertainty set\n",
    "\n",
    "x = model.dvar((I, J))                      # define here-and-now decisions as array x\n",
    "y = model.ldr(J)                            # define linear decision rules as array y\n",
    "y.adapt(d)                                  # y affinely adapts to d\n",
    "\n",
    "model.minmax(((c-r)*x).sum() + r@y, zset)   # minimize the worst-case objective \n",
    "model.st(y >= x.sum(axis=0) - d, y >= 0)    # robust constraints\n",
    "model.st(x.sum(axis=1) <= q, x >= 0)        # deterministic constraints\n",
    "\n",
    "model.solve(eco)                            # solve the model with Gurobi"
   ]
  },
  {
   "cell_type": "code",
   "execution_count": 16,
   "id": "5647d6fd",
   "metadata": {
    "scrolled": false
   },
   "outputs": [
    {
     "data": {
      "text/plain": [
       "-75.10768250566842"
      ]
     },
     "execution_count": 16,
     "metadata": {},
     "output_type": "execute_result"
    }
   ],
   "source": [
    "model.get()"
   ]
  },
  {
   "cell_type": "code",
   "execution_count": 31,
   "id": "059f9df2",
   "metadata": {},
   "outputs": [
    {
     "data": {
      "text/plain": [
       "array([[ 0.     ,  0.     ,  0.     ,  0.     ,  0.     , 39.61376,\n",
       "         0.     ,  0.     ,  0.     ,  0.     ]])"
      ]
     },
     "execution_count": 31,
     "metadata": {},
     "output_type": "execute_result"
    }
   ],
   "source": [
    "x1 = x.get()\n",
    "x1.round(5)"
   ]
  },
  {
   "cell_type": "code",
   "execution_count": 29,
   "id": "7d5be748",
   "metadata": {},
   "outputs": [
    {
     "data": {
      "text/plain": [
       "Second order cone program object:\n",
       "=============================================\n",
       "Number of variables:          373\n",
       "Continuous/binaries/integers: 373/0/0\n",
       "---------------------------------------------\n",
       "Number of linear constraints: 232\n",
       "Inequalities/equalities:      211/21\n",
       "Number of coefficients:       823\n",
       "---------------------------------------------\n",
       "Number of SOC constraints:    0"
      ]
     },
     "execution_count": 29,
     "metadata": {},
     "output_type": "execute_result"
    }
   ],
   "source": [
    "model.do_math()"
   ]
  },
  {
   "cell_type": "markdown",
   "id": "452af706",
   "metadata": {},
   "source": [
    "#### The sample robust model using the `ro` framework"
   ]
  },
  {
   "cell_type": "code",
   "execution_count": 33,
   "id": "36e717c8",
   "metadata": {},
   "outputs": [],
   "source": [
    "dhat = demand.values                                    # sample demand as an array\n",
    "S = dhat.shape[0]                                       # sample size of the dataset\n",
    "epsilon = 0.25                                          # parameter of robustness\n",
    "w = 1/S                                                 # weights of scenarios"
   ]
  },
  {
   "cell_type": "code",
   "execution_count": 34,
   "id": "39b78959",
   "metadata": {},
   "outputs": [
    {
     "name": "stdout",
     "output_type": "stream",
     "text": [
      "Being solved by ECOS...\n",
      "Solution status: Optimal solution found\n",
      "Running time: 1.0107s\n"
     ]
    }
   ],
   "source": [
    "from rsome import ro                                    # import the ro module\n",
    "from rsome import norm                                  # import the norm function\n",
    "from rsome import eco_solver as eco                     # import the Gurobi interface\n",
    "\n",
    "model = ro.Model()                                      # create an RO model\n",
    "\n",
    "d = model.rvar(J)                                       # random variable d\n",
    "a = model.dvar(S)                                       # variable as the recourse cost\n",
    "x = model.dvar((I, J))                                  # here-and-now decision x\n",
    "y = model.ldr((S, J))                                   # linear decision rule y\n",
    "y.adapt(d)                                              # y affinely adapts to d\n",
    "\n",
    "model.min(((c-r)*x).sum() + w*a.sum())                  # minimize the objective\n",
    "for s in range(S):\n",
    "    zset = (d <= d_ub, d >= d_lb, \n",
    "            norm(d - dhat[s]) <= epsilon)               # sample-wise uncertainty set\n",
    "    model.st((a[s] >= r@y[s]).forall(zset))             # constraints for the sth sample\n",
    "    model.st((y[s] >= x.sum(axis=0) - d).forall(zset))  # constraints for the sth sample\n",
    "    model.st((y[s] >= 0).forall(zset))                  # constraints for the sth sample\n",
    "model.st(x.sum(axis=1) <= q, x >= 0)                    # constraints\n",
    "\n",
    "model.solve(eco)                                        # solve the model by Gruobi"
   ]
  },
  {
   "cell_type": "code",
   "execution_count": 35,
   "id": "e4121d9d",
   "metadata": {
    "scrolled": true
   },
   "outputs": [
    {
     "data": {
      "text/plain": [
       "-130.15908159148634"
      ]
     },
     "execution_count": 35,
     "metadata": {},
     "output_type": "execute_result"
    }
   ],
   "source": [
    "model.get()"
   ]
  },
  {
   "cell_type": "code",
   "execution_count": 36,
   "id": "0333f13b",
   "metadata": {
    "scrolled": false
   },
   "outputs": [
    {
     "data": {
      "text/plain": [
       "array([[ 0.6697 ,  3.00859,  0.     ,  4.34011,  0.     , 70.92135,\n",
       "         3.99641,  5.18537,  5.82321,  3.82512]])"
      ]
     },
     "execution_count": 36,
     "metadata": {},
     "output_type": "execute_result"
    }
   ],
   "source": [
    "x2 = x.get()\n",
    "x2.round(5)"
   ]
  },
  {
   "cell_type": "code",
   "execution_count": 37,
   "id": "9b76b3b3",
   "metadata": {},
   "outputs": [
    {
     "data": {
      "text/plain": [
       "Second order cone program object:\n",
       "=============================================\n",
       "Number of variables:          44132\n",
       "Continuous/binaries/integers: 44132/0/0\n",
       "---------------------------------------------\n",
       "Number of linear constraints: 17789\n",
       "Inequalities/equalities:      16172/1617\n",
       "Number of coefficients:       92526\n",
       "---------------------------------------------\n",
       "Number of SOC constraints:    1617"
      ]
     },
     "execution_count": 37,
     "metadata": {},
     "output_type": "execute_result"
    }
   ],
   "source": [
    "model.do_math()"
   ]
  },
  {
   "cell_type": "markdown",
   "id": "6d80e993",
   "metadata": {},
   "source": [
    "#### The sample robust model using the `dro` framework"
   ]
  },
  {
   "cell_type": "code",
   "execution_count": 38,
   "id": "d9563d8c",
   "metadata": {},
   "outputs": [],
   "source": [
    "dhat = demand.values                                # sample demand as an array\n",
    "S = dhat.shape[0]                                   # sample size of the dataset\n",
    "epsilon = 0.25                                      # parameter of robustness\n",
    "w = 1/S                                             # weights of scenarios"
   ]
  },
  {
   "cell_type": "code",
   "execution_count": 39,
   "id": "00f3e984",
   "metadata": {},
   "outputs": [
    {
     "name": "stdout",
     "output_type": "stream",
     "text": [
      "Being solved by ECOS...\n",
      "Solution status: Optimal solution found\n",
      "Running time: 1.2202s\n"
     ]
    }
   ],
   "source": [
    "from rsome import dro                               # import the dro module\n",
    "from rsome import norm                              # import the norm function\n",
    "from rsome import E                                 # import the expectation notion\n",
    "from rsome import eco_solver as eco                 # import the Gurobi interface\n",
    "\n",
    "model = dro.Model(S)                                # a DRO model with S scenarios\n",
    "\n",
    "d = model.rvar(J)                                   # random variable d\n",
    "fset = model.ambiguity()                            # create an ambiguity set\n",
    "for s in range(S):                                  # for each scenario\n",
    "    fset[s].suppset(d <= d_ub, d >= d_lb, \n",
    "                    norm(d - dhat[s]) <= epsilon)   # define the support set\n",
    "pr = model.p                                        # an array of scenario weights\n",
    "fset.probset(pr == w)                               # specify scenario weights\n",
    "\n",
    "x = model.dvar((I, J))                              # here-and-now decision x\n",
    "y = model.dvar(J)                                   # wait-and-see decision y\n",
    "y.adapt(d)                                          # y affinely adapts to d\n",
    "for s in range(S):\n",
    "    y.adapt(s)                                      # y adapts to each scenario s\n",
    "\n",
    "model.minsup(((c-r)*x).sum() + E(r@y), fset)        # the worst-case expectation\n",
    "model.st(y >= x.sum(axis=0) - d, y >= 0)            # robust constraints\n",
    "model.st(x.sum(axis=1) <= q, x >= 0)                # deterministic constraints\n",
    "\n",
    "model.solve(eco)                                    # solve the model by Gruobi"
   ]
  },
  {
   "cell_type": "code",
   "execution_count": 40,
   "id": "33209d3a",
   "metadata": {},
   "outputs": [
    {
     "data": {
      "text/plain": [
       "-130.15908156563754"
      ]
     },
     "execution_count": 40,
     "metadata": {},
     "output_type": "execute_result"
    }
   ],
   "source": [
    "model.get()"
   ]
  },
  {
   "cell_type": "code",
   "execution_count": 41,
   "id": "ea5e3c3d",
   "metadata": {},
   "outputs": [
    {
     "data": {
      "text/plain": [
       "array([[ 0.6697 ,  3.00859,  0.     ,  4.34011,  0.     , 70.92135,\n",
       "         3.99641,  5.18537,  5.82321,  3.82512]])"
      ]
     },
     "execution_count": 41,
     "metadata": {},
     "output_type": "execute_result"
    }
   ],
   "source": [
    "x.get().round(5)"
   ]
  },
  {
   "cell_type": "code",
   "execution_count": 21,
   "id": "2401f738",
   "metadata": {
    "scrolled": true
   },
   "outputs": [
    {
     "data": {
      "text/plain": [
       "Second order cone program object:\n",
       "=============================================\n",
       "Number of variables:          44288\n",
       "Continuous/binaries/integers: 44288/0/0\n",
       "---------------------------------------------\n",
       "Number of linear constraints: 18713\n",
       "Inequalities/equalities:      17019/1694\n",
       "Number of coefficients:       95203\n",
       "---------------------------------------------\n",
       "Number of SOC constraints:    1617"
      ]
     },
     "execution_count": 21,
     "metadata": {},
     "output_type": "execute_result"
    }
   ],
   "source": [
    "model.do_math()"
   ]
  },
  {
   "cell_type": "markdown",
   "id": "c1392707",
   "metadata": {},
   "source": [
    "#### Distributionally robust optimization model considering side information"
   ]
  },
  {
   "cell_type": "code",
   "execution_count": 42,
   "id": "9766118a",
   "metadata": {},
   "outputs": [],
   "source": [
    "regr = DecisionTreeRegressor(max_leaf_nodes=4,          # max leaf nodes\n",
    "                             min_samples_leaf=3)        # min sample size of each leaf\n",
    "regr.fit(precip, demand)\n",
    "mu, index, counts = np.unique(regr.predict(precip), \n",
    "                              axis=0,\n",
    "                              return_inverse=True,\n",
    "                              return_counts=True)       # conditional mean\n",
    "w = counts/precip.shape[0]                              # scenario weights         \n",
    "phi = np.array([demand.values[index==i].var(axis=0)\n",
    "                for i in range(len(counts))])           # conditional variance\n",
    "d_ub = np.array([demand.values[index==i].max(axis=0)\n",
    "                for i in range(len(counts))])           # upper bound of each scenario\n",
    "d_lb = np.array([demand.values[index==i].min(axis=0)\n",
    "                for i in range(len(counts))])           # lower bound of each scenario"
   ]
  },
  {
   "cell_type": "code",
   "execution_count": 43,
   "id": "b6c14367",
   "metadata": {},
   "outputs": [
    {
     "data": {
      "image/png": "[encoded data removed]",
      "text/plain": [
       "<Figure size 1440x648 with 1 Axes>"
      ]
     },
     "metadata": {
      "needs_background": "light"
     },
     "output_type": "display_data"
    }
   ],
   "source": [
    "from sklearn.tree import plot_tree\n",
    "\n",
    "plt.figure(figsize=(20, 9))\n",
    "plot_tree(regr, rounded=True, feature_names=demand.columns, fontsize=12)\n",
    "plt.show()"
   ]
  },
  {
   "cell_type": "code",
   "execution_count": 44,
   "id": "6528589f",
   "metadata": {
    "scrolled": true
   },
   "outputs": [
    {
     "data": {
      "image/png": "[encoded data removed]",
      "text/plain": [
       "<Figure size 720x288 with 4 Axes>"
      ]
     },
     "metadata": {
      "needs_background": "light"
     },
     "output_type": "display_data"
    }
   ],
   "source": [
    "fig = plt.figure(figsize=(10, 4))\n",
    "gs = fig.add_gridspec(1, 4, hspace=0, wspace=0)\n",
    "axes = gs.subplots(sharey='row')\n",
    "for i in range(4):\n",
    "    each_demand = demand.values[index==i]\n",
    "    axes[i].boxplot(each_demand, \n",
    "                    vert=False, flierprops={'markersize': 4})\n",
    "    axes[i].set_yticks(list(range(1, 11)), \n",
    "                       ['Region{0}'.format(i) for i in range(1, 11)], \n",
    "                       fontsize=11)\n",
    "    axes[i].set_xlabel('Demand', fontsize=12)\n",
    "    axes[i].set_title('Sample size: {0}'.format(each_demand.shape[0]), \n",
    "                      fontsize=13)\n",
    "axes[3].set_ylim(10.5, 0.5)\n",
    "plt.show()"
   ]
  },
  {
   "cell_type": "code",
   "execution_count": 45,
   "id": "62c3c265",
   "metadata": {},
   "outputs": [
    {
     "name": "stdout",
     "output_type": "stream",
     "text": [
      "Being solved by ECOS...\n",
      "Solution status: Optimal solution found\n",
      "Running time: 0.1126s\n"
     ]
    }
   ],
   "source": [
    "from rsome import dro                         # import the dro module\n",
    "from rsome import square                      # import the element-wise square function\n",
    "from rsome import E                           # import the notion of expectation\n",
    "from rsome import eco_solver as eco           # import the Gurobi interface\n",
    "\n",
    "S = len(w)\n",
    "model = dro.Model(S)                          # create a DRO model with S scenarios\n",
    "\n",
    "d = model.rvar(J)                             # random demand as the variable d\n",
    "u = model.rvar(J)                             # auxiliary random variable u\n",
    "fset = model.ambiguity()                      # create an ambiguity set\n",
    "for s in range(S):                            # for each scenario:\n",
    "    fset[s].exptset(E(d) == mu[s],            # specify the expectation set of d and u\n",
    "                    E(u) <= phi[s])\n",
    "    fset[s].suppset(d >= d_lb[s],             # specify the support of d and u\n",
    "                    d <= d_ub[s],\n",
    "                    square(d - mu[s]) <= u)\n",
    "pr = model.p                                  # an array of scenario probabilities\n",
    "fset.probset(pr == w)                         # w as scenario weights\n",
    "\n",
    "x = model.dvar((I, J))                        # here-and-now decision x\n",
    "y = model.dvar(J)                             # wait-and-see decision y\n",
    "y.adapt(d)                                    # y affinely adapts to d\n",
    "y.adapt(u)                                    # y affinely adapts to u\n",
    "for s in range(S):                            # for each scenario:\n",
    "    y.adapt(s)                                # affine adaptation of y is different\n",
    "\n",
    "model.minsup(((c-r)*x).sum() + E(r@y), fset)  # minimize the worst-case objective\n",
    "model.st(y >= x.sum(axis=0) - d, y >= 0)      # robust constraints\n",
    "model.st(x >= 0, x.sum(axis=0) <= q)          # deterministic constraints\n",
    "\n",
    "model.solve(eco)                              # solve the model by Gurobi\n",
    "status = model.solution.status                # return the solution status\n",
    "time = model.solution.time                    # return the solution time\n",
    "objval = model.get()                          # get the optimal objective value\n",
    "x_sol = x.get()                               # get the optimal solution"
   ]
  },
  {
   "cell_type": "code",
   "execution_count": 46,
   "id": "7e99a872",
   "metadata": {},
   "outputs": [
    {
     "data": {
      "text/plain": [
       "-111.33291087626135"
      ]
     },
     "execution_count": 46,
     "metadata": {},
     "output_type": "execute_result"
    }
   ],
   "source": [
    "model.get()"
   ]
  },
  {
   "cell_type": "code",
   "execution_count": 47,
   "id": "fb736637",
   "metadata": {},
   "outputs": [
    {
     "data": {
      "text/plain": [
       "array([[ 0.     ,  0.     ,  0.     ,  5.51733,  0.     , 74.41608,\n",
       "         0.     ,  3.70714,  7.03957,  4.79476]])"
      ]
     },
     "execution_count": 47,
     "metadata": {},
     "output_type": "execute_result"
    }
   ],
   "source": [
    "x3 = x.get()\n",
    "x3.round(5)"
   ]
  },
  {
   "cell_type": "code",
   "execution_count": 28,
   "id": "b6cad472",
   "metadata": {
    "scrolled": true
   },
   "outputs": [
    {
     "data": {
      "text/plain": [
       "Second order cone program object:\n",
       "=============================================\n",
       "Number of variables:          4889\n",
       "Continuous/binaries/integers: 4889/0/0\n",
       "---------------------------------------------\n",
       "Number of linear constraints: 1930\n",
       "Inequalities/equalities:      502/1428\n",
       "Number of coefficients:       10759\n",
       "---------------------------------------------\n",
       "Number of SOC constraints:    840"
      ]
     },
     "execution_count": 28,
     "metadata": {},
     "output_type": "execute_result"
    }
   ],
   "source": [
    "model.do_math()"
   ]
  },
  {
   "cell_type": "markdown",
   "id": "f0b7bb12",
   "metadata": {},
   "source": [
    "#### Visualization of allocation decisions"
   ]
  },
  {
   "cell_type": "code",
   "execution_count": 57,
   "id": "a3ebdcdb",
   "metadata": {},
   "outputs": [
    {
     "data": {
      "text/plain": [
       "Text(0, 0.5, 'Allocated quantities')"
      ]
     },
     "execution_count": 57,
     "metadata": {},
     "output_type": "execute_result"
    },
    {
     "data": {
      "image/png": "[encoded data removed]",
      "text/plain": [
       "<Figure size 720x360 with 1 Axes>"
      ]
     },
     "metadata": {
      "needs_background": "light"
     },
     "output_type": "display_data"
    }
   ],
   "source": [
    "width=0.25\n",
    "labels = demand.columns\n",
    "\n",
    "plt.figure(figsize=(10, 5))\n",
    "plt.bar(np.arange(0, len(labels)) - 1*width, x1.flatten(), \n",
    "        width=width, color='r', alpha=0.7, \n",
    "        label='RO model')\n",
    "plt.bar(np.arange(0, len(labels)), x2.flatten(), \n",
    "        width=width, color='b', alpha=0.7, \n",
    "        label='Robust sample optimization')\n",
    "plt.bar(np.arange(0, len(labels)) + 1*width, x3.flatten(), \n",
    "        width=width, color='g', alpha=0.7,\n",
    "        label='DRO with side information')\n",
    "plt.legend(fontsize=13)\n",
    "plt.xticks(np.arange(0, len(labels)), labels, fontsize=11)\n",
    "plt.ylabel('Allocated quantities', fontsize=13)"
   ]
  }
 ],
 "metadata": {
  "kernelspec": {
   "display_name": "Python 3",
   "language": "python",
   "name": "python3"
  },
  "language_info": {
   "codemirror_mode": {
    "name": "ipython",
    "version": 3
   },
   "file_extension": ".py",
   "mimetype": "text/x-python",
   "name": "python",
   "nbconvert_exporter": "python",
   "pygments_lexer": "ipython3",
   "version": "3.7.4"
  },
  "varInspector": {
   "cols": {
    "lenName": 16,
    "lenType": 16,
    "lenVar": 40
   },
   "kernels_config": {
    "python": {
     "delete_cmd_postfix": "",
     "delete_cmd_prefix": "del ",
     "library": "var_list.py",
     "varRefreshCmd": "print(var_dic_list())"
    },
    "r": {
     "delete_cmd_postfix": ") ",
     "delete_cmd_prefix": "rm(",
     "library": "var_list.r",
     "varRefreshCmd": "cat(var_dic_list()) "
    }
   },
   "types_to_exclude": [
    "module",
    "function",
    "builtin_function_or_method",
    "instance",
    "_Feature"
   ],
   "window_display": false
  }
 },
 "nbformat": 4,
 "nbformat_minor": 5
}
